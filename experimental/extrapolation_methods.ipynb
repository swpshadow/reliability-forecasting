{
 "cells": [
  {
   "cell_type": "code",
   "execution_count": 1,
   "metadata": {},
   "outputs": [],
   "source": [
    "#imports too many libraries and the data\n",
    "\n",
    "import numpy as np\n",
    "import pandas as pd\n",
    "\n",
    "from sklearn.linear_model import LinearRegression \n",
    "from sklearn import metrics\n",
    "\n",
    "import tensorflow as tf\n",
    "from tensorflow import keras\n",
    "from tensorflow.keras import layers\n",
    "\n",
    "\n",
    "from scipy.optimize import curve_fit\n",
    "from scipy import interpolate\n",
    "from scipy.optimize import minimize\n",
    "import scipy.stats as stats\n",
    "\n",
    "\n",
    "train_size = 0.9\n",
    "\n",
    "data = pd.read_excel('./data/example_failure_data_sets.xlsx', sheet_name=\"SYS1\")\n",
    "\n",
    "train_x = data[\"FT\"].to_numpy()[0:int(len(data[\"FT\"])*train_size)]\n",
    "train_y = data[\"FN\"].to_numpy()[0:int(len(data[\"FN\"])*train_size)]"
   ]
  },
  {
   "cell_type": "code",
   "execution_count": 6,
   "metadata": {},
   "outputs": [],
   "source": [
    "#methods needed for MLE\n",
    "\n",
    "def exponential(x, a, b):\n",
    "    return a*(1-np.exp(-b*x))\n",
    "\n",
    "#can weight the points if you want but is unweighted by default.\n",
    "def MLERegression(params):\n",
    "    a, b, sd = params[0], params[1], params[2] # inputs are guesses at our parameters\n",
    "    yhat = exponential(train_x, a, b)\n",
    "    \n",
    "    negLL = -np.sum(stats.norm.logpdf(train_y[:-5], loc=yhat[:-5], scale=sd) )# , scale=sd return negative LL\\\n",
    "    negLL += -np.sum(stats.norm.logpdf(train_y[-5:], loc=yhat[-5:], scale=sd) )\n",
    "\n",
    "    return(negLL)"
   ]
  },
  {
   "cell_type": "code",
   "execution_count": 7,
   "metadata": {},
   "outputs": [
    {
     "name": "stdout",
     "output_type": "stream",
     "text": [
      "Optimization terminated successfully.\n",
      "         Current function value: 356.811969\n",
      "         Iterations: 113\n",
      "         Function evaluations: 203\n",
      " final_simplex: (array([[1.13944533e+02, 6.08551787e-05, 4.50752123e+00],\n",
      "       [1.13944527e+02, 6.08551355e-05, 4.50751148e+00],\n",
      "       [1.13944631e+02, 6.08550508e-05, 4.50752890e+00],\n",
      "       [1.13944530e+02, 6.08550744e-05, 4.50753823e+00]]), array([356.81196948, 356.81196948, 356.81196948, 356.81196948]))\n",
      "           fun: 356.81196947770184\n",
      "       message: 'Optimization terminated successfully.'\n",
      "          nfev: 203\n",
      "           nit: 113\n",
      "        status: 0\n",
      "       success: True\n",
      "             x: array([1.13944533e+02, 6.08551787e-05, 4.50752123e+00])\n"
     ]
    }
   ],
   "source": [
    "params = [130, 0.0001, 1]\n",
    "results = minimize(MLERegression, params, method = \"Nelder-Mead\", options={\"disp\": True, \"maxiter\": 200}) #\n",
    "\n",
    "print(results)"
   ]
  },
  {
   "cell_type": "code",
   "execution_count": 8,
   "metadata": {},
   "outputs": [
    {
     "data": {
      "text/plain": [
       "<matplotlib.axes._subplots.AxesSubplot at 0x7f84a54bbfd0>"
      ]
     },
     "execution_count": 8,
     "metadata": {},
     "output_type": "execute_result"
    },
    {
     "data": {
      "image/png": "[encoded data removed]",
      "text/plain": [
       "<Figure size 432x288 with 1 Axes>"
      ]
     },
     "metadata": {
      "needs_background": "light"
     },
     "output_type": "display_data"
    }
   ],
   "source": [
    "plt = data.plot.scatter(x='FT', y='FN', c=\"red\")\n",
    "\n",
    "f = [exponential(x, results.x[0], results.x[1]) for x in data[\"FT\"].to_numpy()]\n",
    "\n",
    "df = pd.DataFrame()\n",
    "df['f'] = f\n",
    "df['x'] = data[\"FT\"].to_numpy()\n",
    "df.plot.scatter(x='x', y='f', ax=plt)"
   ]
  },
  {
   "cell_type": "code",
   "execution_count": 11,
   "metadata": {},
   "outputs": [
    {
     "name": "stdout",
     "output_type": "stream",
     "text": [
      "(array([1.44426010e+02, 3.20869088e-05]), array([[ 3.97959785e-04, -2.46707780e-10],\n",
      "       [-2.46707780e-10,  1.53847040e-16]]))\n"
     ]
    },
    {
     "name": "stderr",
     "output_type": "stream",
     "text": [
      "/home/swpshadow/.local/lib/python3.6/site-packages/ipykernel_launcher.py:4: RuntimeWarning: overflow encountered in exp\n",
      "  after removing the cwd from sys.path.\n"
     ]
    },
    {
     "data": {
      "text/plain": [
       "<matplotlib.axes._subplots.AxesSubplot at 0x7f83f593a4e0>"
      ]
     },
     "execution_count": 11,
     "metadata": {},
     "output_type": "execute_result"
    },
    {
     "data": {
      "image/png": "[encoded data removed]",
      "text/plain": [
       "<Figure size 432x288 with 1 Axes>"
      ]
     },
     "metadata": {
      "needs_background": "light"
     },
     "output_type": "display_data"
    }
   ],
   "source": [
    "#weighted curve fit which uses least squares. Not a mathematically good method but easy and fast to implement\n",
    "\n",
    "w = [ 1- i for i in np.linspace(0.8,1, len(train_x) + 2)]\n",
    "p = curve_fit(exponential, train_x, train_y, sigma=w[1:-1], absolute_sigma=True)\n",
    "print(p)\n",
    "\n",
    "plt = data.plot.scatter(x='FT', y='FN', c=\"red\")\n",
    "f = [exponential(x, p[0][0], p[0][1]) for x in data[\"FT\"].to_numpy()]\n",
    "\n",
    "df = pd.DataFrame()\n",
    "df['f'] = f\n",
    "df['x'] = data[\"FT\"].to_numpy()\n",
    "df.plot.scatter(x='x', y='f', ax=plt)"
   ]
  },
  {
   "cell_type": "code",
   "execution_count": 19,
   "metadata": {},
   "outputs": [
    {
     "data": {
      "text/plain": [
       "<tensorflow.python.keras.callbacks.History at 0x7f83e026aef0>"
      ]
     },
     "execution_count": 19,
     "metadata": {},
     "output_type": "execute_result"
    }
   ],
   "source": [
    "#tensorflow network. \n",
    "\n",
    "mod = tf.keras.Sequential([\n",
    "    layers.Dense(1),\n",
    "     layers.Dense(10,  activation='relu'),\n",
    "    layers.Dense(10, activation='elu'),\n",
    "    layers.Dense(1)\n",
    "])\n",
    "mod.compile(optimizer=tf.optimizers.Adamax(learning_rate=0.01),loss='mean_absolute_error')\n",
    "\n",
    "mod.fit(train_x, train_y, epochs=10000, batch_size=(len(train_x)), verbose=0)"
   ]
  },
  {
   "cell_type": "code",
   "execution_count": 20,
   "metadata": {},
   "outputs": [
    {
     "name": "stdout",
     "output_type": "stream",
     "text": [
      "0.9952615396038469\n",
      "0.367914443816296\n",
      "      predicted    y      x\n",
      "122  124.110466  123  62551\n",
      "123  124.214760  124  62651\n",
      "124  124.225174  125  62661\n",
      "125  125.342110  126  63732\n",
      "126  125.729050  127  64103\n",
      "127  126.552902  128  64893\n",
      "128  132.966705  129  71043\n",
      "129  136.430145  130  74364\n",
      "130  137.519974  131  75409\n",
      "131  138.195755  132  76057\n",
      "132  143.916000  133  81542\n",
      "133  145.125778  134  82702\n",
      "134  147.069717  135  84566\n",
      "135  151.362289  136  88682\n"
     ]
    },
    {
     "data": {
      "text/plain": [
       "<matplotlib.axes._subplots.AxesSubplot at 0x7f83e0266780>"
      ]
     },
     "execution_count": 20,
     "metadata": {},
     "output_type": "execute_result"
    },
    {
     "data": {
      "image/png": "[encoded data removed]",
      "text/plain": [
       "<Figure size 432x288 with 1 Axes>"
      ]
     },
     "metadata": {
      "needs_background": "light"
     },
     "output_type": "display_data"
    }
   ],
   "source": [
    "#results for NN\n",
    "\n",
    "NNres = pd.DataFrame()\n",
    "\n",
    "NNres['predicted']= [num[0] for num in mod.predict(data[\"FT\"])]\n",
    "\n",
    "NNres['y'] = data[\"FN\"]\n",
    "NNres['x'] = data['FT']\n",
    "\n",
    "print(metrics.r2_score(NNres['predicted'], data['FN']))\n",
    "\n",
    "print(metrics.r2_score(NNres['predicted'][len(train_x):], data['FN'][len(train_x):]))\n",
    "\n",
    "print(NNres[len(train_x):])\n",
    "\n",
    "plt = NNres.plot.scatter(x='x', y='y', c='red')\n",
    "NNres.plot.scatter(x='x', y='predicted', ax=plt)"
   ]
  }
 ],
 "metadata": {
  "kernelspec": {
   "display_name": "Python 3",
   "language": "python",
   "name": "python3"
  },
  "language_info": {
   "codemirror_mode": {
    "name": "ipython",
    "version": 3
   },
   "file_extension": ".py",
   "mimetype": "text/x-python",
   "name": "python",
   "nbconvert_exporter": "python",
   "pygments_lexer": "ipython3",
   "version": "3.8.9"
  }
 },
 "nbformat": 4,
 "nbformat_minor": 4
}
