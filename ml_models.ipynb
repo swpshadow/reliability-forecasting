{
 "cells": [
  {
   "cell_type": "code",
   "execution_count": 5,
   "metadata": {},
   "outputs": [
    {
     "data": {
      "text/html": [
       "<div>\n",
       "<style scoped>\n",
       "    .dataframe tbody tr th:only-of-type {\n",
       "        vertical-align: middle;\n",
       "    }\n",
       "\n",
       "    .dataframe tbody tr th {\n",
       "        vertical-align: top;\n",
       "    }\n",
       "\n",
       "    .dataframe thead th {\n",
       "        text-align: right;\n",
       "    }\n",
       "</style>\n",
       "<table border=\"1\" class=\"dataframe\">\n",
       "  <thead>\n",
       "    <tr style=\"text-align: right;\">\n",
       "      <th></th>\n",
       "      <th>FN</th>\n",
       "      <th>IF</th>\n",
       "      <th>FT</th>\n",
       "    </tr>\n",
       "  </thead>\n",
       "  <tbody>\n",
       "    <tr>\n",
       "      <th>0</th>\n",
       "      <td>1</td>\n",
       "      <td>3</td>\n",
       "      <td>3</td>\n",
       "    </tr>\n",
       "    <tr>\n",
       "      <th>1</th>\n",
       "      <td>2</td>\n",
       "      <td>30</td>\n",
       "      <td>33</td>\n",
       "    </tr>\n",
       "    <tr>\n",
       "      <th>2</th>\n",
       "      <td>3</td>\n",
       "      <td>113</td>\n",
       "      <td>146</td>\n",
       "    </tr>\n",
       "    <tr>\n",
       "      <th>3</th>\n",
       "      <td>4</td>\n",
       "      <td>81</td>\n",
       "      <td>227</td>\n",
       "    </tr>\n",
       "    <tr>\n",
       "      <th>4</th>\n",
       "      <td>5</td>\n",
       "      <td>115</td>\n",
       "      <td>342</td>\n",
       "    </tr>\n",
       "    <tr>\n",
       "      <th>...</th>\n",
       "      <td>...</td>\n",
       "      <td>...</td>\n",
       "      <td>...</td>\n",
       "    </tr>\n",
       "    <tr>\n",
       "      <th>131</th>\n",
       "      <td>132</td>\n",
       "      <td>648</td>\n",
       "      <td>76057</td>\n",
       "    </tr>\n",
       "    <tr>\n",
       "      <th>132</th>\n",
       "      <td>133</td>\n",
       "      <td>5485</td>\n",
       "      <td>81542</td>\n",
       "    </tr>\n",
       "    <tr>\n",
       "      <th>133</th>\n",
       "      <td>134</td>\n",
       "      <td>1160</td>\n",
       "      <td>82702</td>\n",
       "    </tr>\n",
       "    <tr>\n",
       "      <th>134</th>\n",
       "      <td>135</td>\n",
       "      <td>1864</td>\n",
       "      <td>84566</td>\n",
       "    </tr>\n",
       "    <tr>\n",
       "      <th>135</th>\n",
       "      <td>136</td>\n",
       "      <td>4116</td>\n",
       "      <td>88682</td>\n",
       "    </tr>\n",
       "  </tbody>\n",
       "</table>\n",
       "<p>136 rows × 3 columns</p>\n",
       "</div>"
      ],
      "text/plain": [
       "      FN    IF     FT\n",
       "0      1     3      3\n",
       "1      2    30     33\n",
       "2      3   113    146\n",
       "3      4    81    227\n",
       "4      5   115    342\n",
       "..   ...   ...    ...\n",
       "131  132   648  76057\n",
       "132  133  5485  81542\n",
       "133  134  1160  82702\n",
       "134  135  1864  84566\n",
       "135  136  4116  88682\n",
       "\n",
       "[136 rows x 3 columns]"
      ]
     },
     "execution_count": 5,
     "metadata": {},
     "output_type": "execute_result"
    }
   ],
   "source": [
    "#imports libraries and data.\n",
    "\n",
    "import numpy as np\n",
    "import pandas as pd\n",
    "from scipy.optimize import curve_fit\n",
    "from sklearn import *\n",
    "\n",
    "data = pd.read_excel('./data/example_failure_data_sets.xlsx', sheet_name=\"SYS1\")\n",
    "data"
   ]
  },
  {
   "cell_type": "code",
   "execution_count": 53,
   "metadata": {},
   "outputs": [],
   "source": [
    "#creates the training data portion which just grabs the first cut of data. Can change train size.\n",
    "\n",
    "train_size = 0.9\n",
    "\n",
    "short_data = pd.DataFrame()\n",
    "short_data[\"FT\"] = data[\"FT\"][:int(train_size*len(data[\"FT\"]))]\n",
    "short_data['FN'] = data[\"FN\"][:int(train_size*len(data[\"FN\"]))]"
   ]
  },
  {
   "cell_type": "code",
   "execution_count": 54,
   "metadata": {},
   "outputs": [
    {
     "data": {
      "text/plain": [
       "<matplotlib.axes._subplots.AxesSubplot at 0x7f325bf6ebe0>"
      ]
     },
     "execution_count": 54,
     "metadata": {},
     "output_type": "execute_result"
    },
    {
     "data": {
      "image/png": "[encoded data removed]",
      "text/plain": [
       "<Figure size 432x288 with 1 Axes>"
      ]
     },
     "metadata": {
      "needs_background": "light"
     },
     "output_type": "display_data"
    }
   ],
   "source": [
    "#gets metrics and graph for specified model trained on whatever portion of the data short_data is. \n",
    "# Can uncomment metrics for more info\n",
    "\n",
    "#mod = ensemble.RandomForestRegressor()\n",
    "mod = svm.SVR( kernel=\"sigmoid\")\n",
    "#mod = linear_model.LinearRegression()\n",
    "\n",
    "# mod3 = neighbors.KNeighborsRegressor(n_neighbors=7, weights='uniform')\n",
    "# # mod3 = linear_model.LinearRegression()\n",
    "# mod2 = ensemble.RandomForestRegressor()\n",
    "# mod1 = svm.SVR()\n",
    "# mod = ensemble.VotingRegressor(estimators=[(\"svr\", mod1), (\"RFR\", mod2), (\"linear\", mod3)])\n",
    "\n",
    "mod.fit(short_data[[\"FT\"]],short_data[\"FN\"])\n",
    "\n",
    "result = mod.predict(data[['FT']])\n",
    "\n",
    "# print(metrics.r2_score(result, data['FN']))\n",
    "\n",
    "# print(metrics.r2_score(result[len(short_data)-1:], data['FN'][len(short_data)-1:]))\n",
    "\n",
    "# print( result[len(short_data)-1:])\n",
    "# print(\"\\n\", data['FN'][len(short_data)-1:] )\n",
    "\n",
    "data['result'] = result\n",
    "plt = data.plot.scatter(x='FT', y='FN', c='red') #red is true val\n",
    "data.plot.scatter(x='FT',y='result', ax=plt) #blue is predicted"
   ]
  },
  {
   "cell_type": "code",
   "execution_count": 52,
   "metadata": {},
   "outputs": [
    {
     "data": {
      "image/png": "[encoded data removed]",
      "text/plain": [
       "<Figure size 432x288 with 1 Axes>"
      ]
     },
     "metadata": {
      "needs_background": "light"
     },
     "output_type": "display_data"
    }
   ],
   "source": [
    "#trains and tests the specified model and creates a graph. Currently trains on first 90% of data, tests on all.\n",
    "\n",
    "mod = ensemble.VotingRegressor(estimators=[(\"svr\", mod1), (\"RFR\", mod2), (\"knn\", mod3)])\n",
    "# mod = ensemble.RandomForestRegressor()\n",
    "\n",
    "sys_data = pd.read_excel('./data/example_failure_data_sets.xlsx', sheet_name=\"SYS2\")\n",
    "\n",
    "mod.fit(sys_data[[\"FT\"]][0:int(len(sys_data[\"FT\"])*.9)],  sys_data[\"FN\"][0:int(len(sys_data[\"FT\"])*.9)] )\n",
    "\n",
    "sys_data[\"result\"] =  mod.predict(sys2_data[[\"FT\"]])\n",
    "\n",
    "plt = sys_data.plot.scatter(x=\"FT\", y=\"FN\", c=\"red\")\n",
    "plt = sys_data.plot.scatter(x=\"FT\", y=\"result\", ax = plt, title=\"hybrid sys2 90%\")\n",
    "plt.set_xlabel(\"Failure Time\")\n",
    "plt.set_ylabel(\"Cumulative Failures\")\n",
    "plt.get_figure().savefig(\"hybrid sys2 90.png\")"
   ]
  },
  {
   "cell_type": "code",
   "execution_count": 34,
   "metadata": {},
   "outputs": [],
   "source": [
    "#linear regression coef calculation method. Can insert data into the method and train \n",
    "# then use those coef with a linear model. Can change to make more effecient but wanted it to be explicit\n",
    "\n",
    "def calc_coef(x, y): \n",
    "        assert len(x) == len(y)\n",
    "        n = len(x)  \n",
    "        x_mean = np.mean(x)\n",
    "        cov = np.sum(y*x)/n - x_mean*np.mean(y) \n",
    "        var = np.sum(x*x)/n - x_mean **2\n",
    "        m = cov / var \n",
    "        b = np.mean(y) - m*x_mean \n",
    "        print(b,m)\n",
    "        return(b, m)"
   ]
  },
  {
   "cell_type": "code",
   "execution_count": 35,
   "metadata": {},
   "outputs": [
    {
     "name": "stdout",
     "output_type": "stream",
     "text": [
      "25.501052501848726 0.0018680873938161844\n"
     ]
    }
   ],
   "source": [
    "(b,m) = calc_coef(short_data[\"FT\"],short_data[\"FN\"])\n",
    "\n"
   ]
  }
 ],
 "metadata": {
  "kernelspec": {
   "display_name": "Python 3",
   "language": "python",
   "name": "python3"
  },
  "language_info": {
   "codemirror_mode": {
    "name": "ipython",
    "version": 3
   },
   "file_extension": ".py",
   "mimetype": "text/x-python",
   "name": "python",
   "nbconvert_exporter": "python",
   "pygments_lexer": "ipython3",
   "version": "3.6.9"
  }
 },
 "nbformat": 4,
 "nbformat_minor": 4
}
